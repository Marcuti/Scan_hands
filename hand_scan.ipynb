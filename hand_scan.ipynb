{
 "cells": [
  {
   "cell_type": "code",
   "execution_count": 21,
   "id": "8bcdeea1",
   "metadata": {},
   "outputs": [],
   "source": [
    "import cv2\n",
    "\n",
    "def start_camera():\n",
    "    # Inicializa a captura de vídeo da webcam\n",
    "    cap = cv2.VideoCapture(0)\n",
    "\n",
    "    # Verifica se a webcam foi aberta corretamente\n",
    "    if not cap.isOpened():\n",
    "        print(\"Erro ao abrir a webcam!\")\n",
    "        return None\n",
    "    else:\n",
    "        print(\"Webcam aberta!\")\n",
    "        return cap\n"
   ]
  },
  {
   "cell_type": "code",
   "execution_count": null,
   "id": "97828a67",
   "metadata": {},
   "outputs": [],
   "source": [
    "import cv2\n",
    "import mediapipe as mp\n",
    "\n",
    "def detect_hand(frame, hands):\n",
    "    # Converte o frame para tons de cinza\n",
    "    frame_rgb = cv2.cvtColor(frame, cv2.COLOR_BGR2RGB)\n",
    "\n",
    "    # Detecta mãos no frame\n",
    "    results = hands.process(frame_rgb)\n",
    "\n",
    "    if results.multi_hand_landmarks:\n",
    "        for hand_landmarks in results.multi_hand_landmarks:\n",
    "            # Desenha os pontos das mãos\n",
    "            for landmark in hand_landmarks.landmark:\n",
    "                # Obtém as coordenadas da landmark\n",
    "                x = int(landmark.x * frame.shape[1])\n",
    "                y = int(landmark.y * frame.shape[0])\n",
    "                # Desenha um círculo na imagem do frame nas coordenadas da landmark\n",
    "                cv2.circle(frame, (x, y), 5, (0, 0, 255), -1)\n",
    "            \n",
    "            # Desenha as linhas entre os pontos\n",
    "            connections = [[0, 1], [1, 2], [2, 3], [3, 4], [5, 6], [6, 7], [7, 8], [9, 10],\n",
    "                           [10, 11], [11, 12], [13, 14], [14, 15], [15, 16], [17, 18], [18, 19],\n",
    "                           [19, 20], [0, 5], [5, 9], [9, 13], [13, 17], [0, 17]]\n",
    "            for connection in connections:\n",
    "                x1 = int(hand_landmarks.landmark[connection[0]].x * frame.shape[1])\n",
    "                y1 = int(hand_landmarks.landmark[connection[0]].y * frame.shape[0])\n",
    "                x2 = int(hand_landmarks.landmark[connection[1]].x * frame.shape[1])\n",
    "                y2 = int(hand_landmarks.landmark[connection[1]].y * frame.shape[0])\n",
    "                cv2.line(frame, (x1, y1), (x2, y2), (0, 255, 0), 2)\n",
    "    \n",
    "    return frame"
   ]
  },
  {
   "cell_type": "code",
   "execution_count": null,
   "id": "be430884",
   "metadata": {},
   "outputs": [],
   "source": [
    "import cv2\n",
    "from hand_detection import detect_hand\n",
    "from camera import start_camera\n",
    "\n",
    "# Inicializa a captura de vídeo da webcam\n",
    "cap = start_camera()\n",
    "\n",
    "if cap is not None:\n",
    "    # Inicializa o MediaPipe Hands\n",
    "    mp_hands = mp.solutions.hands\n",
    "    hands = mp_hands.Hands()\n",
    "\n",
    "    while cap.isOpened():\n",
    "        # Captura um frame da webcam\n",
    "        ret, frame = cap.read()\n",
    "        if not ret:\n",
    "            print(\"Erro ao capturar o frame!\")\n",
    "            break\n",
    "\n",
    "        # Detecta mãos no frame\n",
    "        frame = detect_hand(frame, hands)\n",
    "\n",
    "        # Exibe o frame na janela\n",
    "        cv2.imshow('Hand Mapping', frame)\n",
    "\n",
    "        # Verifica se a tecla 'q' foi pressionada para sair do loop\n",
    "        if cv2.waitKey(1) & 0xFF == ord('q'):\n",
    "            break\n",
    "\n",
    "    # Libera a captura de vídeo e fecha todas as janelas\n",
    "    cap.release()\n",
    "    cv2.destroyAllWindows()\n",
    "\n"
   ]
  },
  {
   "cell_type": "code",
   "execution_count": null,
   "id": "f3bb63fc",
   "metadata": {},
   "outputs": [],
   "source": []
  }
 ],
 "metadata": {
  "kernelspec": {
   "display_name": "Python 3 (ipykernel)",
   "language": "python",
   "name": "python3"
  },
  "language_info": {
   "codemirror_mode": {
    "name": "ipython",
    "version": 3
   },
   "file_extension": ".py",
   "mimetype": "text/x-python",
   "name": "python",
   "nbconvert_exporter": "python",
   "pygments_lexer": "ipython3",
   "version": "3.11.5"
  }
 },
 "nbformat": 4,
 "nbformat_minor": 5
}
